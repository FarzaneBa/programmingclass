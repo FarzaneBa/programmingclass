{
 "cells": [
  {
   "cell_type": "markdown",
   "id": "dc2ab282",
   "metadata": {},
   "source": [
    "\n",
    "# What is computer programming?\n",
    "\n",
    "\n",
    "Computer programming is the process of performing a <b>particular computation</b> (or more generally, accomplishing a specific computing result), usually <br>by designing and building an executable computer program</b>.\n",
    "\n",
    "<br>The purpose of programming</b> is to find a sequence of instructions that will <b>automate the performance</b> of a task (which can be as complex as an operating system) on a computer, often for solving a given problem."
   ]
  },
  {
   "cell_type": "markdown",
   "id": "9c7062bb",
   "metadata": {},
   "source": [
    "# What is IDE?\n",
    "An integrated development environment (IDE) is a software application that helps programmers develop software code efficiently."
   ]
  },
  {
   "cell_type": "markdown",
   "id": "0de28ad9",
   "metadata": {},
   "source": [
    "# Programming language\n",
    "A compiler translates the entire source code in a single run. An interpreter translates the entire source code line by line. It consumes less time i.e., it is faster than an interpreter. It consumes much more time than the compiler i.e., it is slower than the compiler."
   ]
  },
  {
   "cell_type": "markdown",
   "id": "e997de8c",
   "metadata": {},
   "source": [
    "# What can you do with python?\n",
    "</br>\n",
    " <b>Automate Simple tasks.</b>\n",
    "1. Searching for file and editing them.\n",
    "2. Scraping information from a website.\n",
    "3. Reading and editing excel files.\n",
    "4. Work with PDFs.\n",
    "5. Automate emails and text messages.\n",
    "6. Fill out Form.\n",
    "</br>\n",
    "<b>Data science and machine learning.</b>\n",
    "1. Analyze large data files.\n",
    "2. Create visualizations.\n",
    "3. Perform machine learning tasks.\n",
    "4. Create and run predictive algorithms.\n",
    "</br>\n",
    "<b>Create websites.</b>\n",
    "1. Use web frameworks such as Django and Flask to handle the backend of a website and user data.\n",
    "2. Create interactive dashboards for users."
   ]
  },
  {
   "cell_type": "markdown",
   "id": "9f918f12",
   "metadata": {},
   "source": [
    "# Python\n",
    "1. Python is Popular\n",
    "2. Python is Interpreted\n",
    "3. Python is Free\n",
    "4. Python is Portable</br>\n",
    "Because Python code is interpreted and not compiled into native machine instructions, code written for one platform will work on any other platform that has the Python interpreter installed. (This is true of any interpreted language, not just Python.)\n",
    "5. Python is Simple\n"
   ]
  },
  {
   "cell_type": "markdown",
   "id": "15ae36b0",
   "metadata": {},
   "source": [
    "# interacting with Pyhton\n",
    "hello world <br>\n",
    "use it as calculator<br>\n",
    "input"
   ]
  },
  {
   "cell_type": "code",
   "execution_count": 2,
   "id": "329ccd58",
   "metadata": {},
   "outputs": [
    {
     "ename": "SyntaxError",
     "evalue": "invalid syntax. Perhaps you forgot a comma? (1578745968.py, line 1)",
     "output_type": "error",
     "traceback": [
      "\u001b[0;36m  Input \u001b[0;32mIn [2]\u001b[0;36m\u001b[0m\n\u001b[0;31m    print(Hello world!)\u001b[0m\n\u001b[0m          ^\u001b[0m\n\u001b[0;31mSyntaxError\u001b[0m\u001b[0;31m:\u001b[0m invalid syntax. Perhaps you forgot a comma?\n"
     ]
    }
   ],
   "source": [
    "print(Hello world!)"
   ]
  },
  {
   "cell_type": "code",
   "execution_count": 111,
   "id": "edfff324",
   "metadata": {},
   "outputs": [
    {
     "data": {
      "text/plain": [
       "14"
      ]
     },
     "execution_count": 111,
     "metadata": {},
     "output_type": "execute_result"
    }
   ],
   "source": [
    "6+8"
   ]
  },
  {
   "cell_type": "code",
   "execution_count": 112,
   "id": "0bea67b8",
   "metadata": {},
   "outputs": [
    {
     "data": {
      "text/plain": [
       "4"
      ]
     },
     "execution_count": 112,
     "metadata": {},
     "output_type": "execute_result"
    }
   ],
   "source": [
    "2+2"
   ]
  },
  {
   "cell_type": "code",
   "execution_count": 113,
   "id": "409ab0d7",
   "metadata": {},
   "outputs": [
    {
     "name": "stdout",
     "output_type": "stream",
     "text": [
      "5\n"
     ]
    }
   ],
   "source": [
    "a = input()"
   ]
  },
  {
   "cell_type": "code",
   "execution_count": 114,
   "id": "c0441ccf",
   "metadata": {},
   "outputs": [
    {
     "data": {
      "text/plain": [
       "'5'"
      ]
     },
     "execution_count": 114,
     "metadata": {},
     "output_type": "execute_result"
    }
   ],
   "source": [
    "a"
   ]
  },
  {
   "cell_type": "markdown",
   "id": "457889f2",
   "metadata": {},
   "source": [
    "# Data type\n",
    "1. Basic Data Types\n",
    "2. Variables in Python\n",
    "3. Operators and Expressions\n",
    "4. Strings\n",
    "5. Lists\n",
    "6. Tuples\n",
    "7. Dictionary\n",
    "8. Dictionary\n",
    "9. Set"
   ]
  },
  {
   "cell_type": "markdown",
   "id": "08357cdc",
   "metadata": {},
   "source": [
    "# Basic data type\n"
   ]
  },
  {
   "cell_type": "code",
   "execution_count": 115,
   "id": "d51c21fb",
   "metadata": {},
   "outputs": [
    {
     "data": {
      "text/plain": [
       "32"
      ]
     },
     "execution_count": 115,
     "metadata": {},
     "output_type": "execute_result"
    }
   ],
   "source": [
    "#Integers\n",
    "\n",
    "import sys\n",
    "sys.getsizeof(1545896222222328)"
   ]
  },
  {
   "cell_type": "code",
   "execution_count": 116,
   "id": "ac6216de",
   "metadata": {},
   "outputs": [
    {
     "name": "stdout",
     "output_type": "stream",
     "text": [
      "55\n"
     ]
    }
   ],
   "source": [
    "print(55)"
   ]
  },
  {
   "cell_type": "code",
   "execution_count": 117,
   "id": "8dfd3424",
   "metadata": {},
   "outputs": [
    {
     "data": {
      "text/plain": [
       "int"
      ]
     },
     "execution_count": 117,
     "metadata": {},
     "output_type": "execute_result"
    }
   ],
   "source": [
    "type(555)"
   ]
  },
  {
   "cell_type": "code",
   "execution_count": 118,
   "id": "9f43587b",
   "metadata": {},
   "outputs": [
    {
     "name": "stdout",
     "output_type": "stream",
     "text": [
      "5.3\n"
     ]
    }
   ],
   "source": [
    "#Float\n",
    "\n",
    "print(5.3)"
   ]
  },
  {
   "cell_type": "code",
   "execution_count": 119,
   "id": "c57cd074",
   "metadata": {},
   "outputs": [
    {
     "data": {
      "text/plain": [
       "float"
      ]
     },
     "execution_count": 119,
     "metadata": {},
     "output_type": "execute_result"
    }
   ],
   "source": [
    "type(5.3)"
   ]
  },
  {
   "cell_type": "code",
   "execution_count": 120,
   "id": "bedfe0df",
   "metadata": {},
   "outputs": [
    {
     "name": "stdout",
     "output_type": "stream",
     "text": [
      "12300000.0\n"
     ]
    }
   ],
   "source": [
    "print(1.23e+07)"
   ]
  },
  {
   "cell_type": "code",
   "execution_count": 121,
   "id": "b55040e0",
   "metadata": {},
   "outputs": [
    {
     "data": {
      "text/plain": [
       "float"
      ]
     },
     "execution_count": 121,
     "metadata": {},
     "output_type": "execute_result"
    }
   ],
   "source": [
    "type(1.23e+07)"
   ]
  },
  {
   "cell_type": "code",
   "execution_count": 122,
   "id": "e3188266",
   "metadata": {},
   "outputs": [
    {
     "data": {
      "text/plain": [
       "True"
      ]
     },
     "execution_count": 122,
     "metadata": {},
     "output_type": "execute_result"
    }
   ],
   "source": [
    "1.23e+07 == 12300000"
   ]
  },
  {
   "cell_type": "code",
   "execution_count": 123,
   "id": "f255d0f7",
   "metadata": {},
   "outputs": [
    {
     "name": "stdout",
     "output_type": "stream",
     "text": [
      "I am String\n"
     ]
    }
   ],
   "source": [
    "#string\n",
    "#Strings are sequences of character data. The string type in Python is called str.\n",
    "\n",
    "print('I am String')"
   ]
  },
  {
   "cell_type": "code",
   "execution_count": 4,
   "id": "e4449cc7",
   "metadata": {},
   "outputs": [
    {
     "ename": "SyntaxError",
     "evalue": "unterminated string literal (detected at line 1) (3961230556.py, line 1)",
     "output_type": "error",
     "traceback": [
      "\u001b[0;36m  Input \u001b[0;32mIn [4]\u001b[0;36m\u001b[0m\n\u001b[0;31m    print(\"I am String\u001b[0m\n\u001b[0m          ^\u001b[0m\n\u001b[0;31mSyntaxError\u001b[0m\u001b[0;31m:\u001b[0m unterminated string literal (detected at line 1)\n"
     ]
    }
   ],
   "source": [
    "print(\"I am String okay\")"
   ]
  },
  {
   "cell_type": "code",
   "execution_count": 125,
   "id": "a7c9ab60",
   "metadata": {},
   "outputs": [
    {
     "data": {
      "text/plain": [
       "str"
      ]
     },
     "execution_count": 125,
     "metadata": {},
     "output_type": "execute_result"
    }
   ],
   "source": [
    "type(\"I am String\")"
   ]
  },
  {
   "cell_type": "code",
   "execution_count": 126,
   "id": "4a2ce5a0",
   "metadata": {},
   "outputs": [
    {
     "name": "stdout",
     "output_type": "stream",
     "text": [
      "I am \n",
      " String\n"
     ]
    }
   ],
   "source": [
    "#escape sequences\n",
    "\n",
    "print(\"I am \\n String\")"
   ]
  },
  {
   "cell_type": "code",
   "execution_count": 127,
   "id": "db0bfd51",
   "metadata": {},
   "outputs": [
    {
     "name": "stdout",
     "output_type": "stream",
     "text": [
      "I am \t String\n"
     ]
    }
   ],
   "source": [
    "print(\"I am \\t String\")"
   ]
  },
  {
   "cell_type": "code",
   "execution_count": 128,
   "id": "af8d6fec",
   "metadata": {},
   "outputs": [
    {
     "name": "stdout",
     "output_type": "stream",
     "text": [
      "This is a\n",
      "string that spans\n",
      "across several lines\n",
      "\n"
     ]
    }
   ],
   "source": [
    "#no need to add newline\n",
    "print(\"\"\"This is a\n",
    "string that spans\n",
    "across several lines\n",
    "\"\"\")"
   ]
  },
  {
   "cell_type": "code",
   "execution_count": 129,
   "id": "4b12e1e6",
   "metadata": {},
   "outputs": [
    {
     "name": "stdout",
     "output_type": "stream",
     "text": [
      "This is a\n",
      "string that spans\n",
      "across several lines\n",
      "\n"
     ]
    }
   ],
   "source": [
    "print('''This is a\n",
    "string that spans\n",
    "across several lines\n",
    "''')"
   ]
  },
  {
   "cell_type": "code",
   "execution_count": 130,
   "id": "f28c61b7",
   "metadata": {},
   "outputs": [
    {
     "data": {
      "text/plain": [
       "bool"
      ]
     },
     "execution_count": 130,
     "metadata": {},
     "output_type": "execute_result"
    }
   ],
   "source": [
    "#boolean\n",
    "#Objects of Boolean type may have one of two values, True or False. they are interpreted to represent truth or falsehood.\n",
    "type(True)"
   ]
  },
  {
   "cell_type": "code",
   "execution_count": 131,
   "id": "e83fe839",
   "metadata": {},
   "outputs": [
    {
     "data": {
      "text/plain": [
       "bool"
      ]
     },
     "execution_count": 131,
     "metadata": {},
     "output_type": "execute_result"
    }
   ],
   "source": [
    "type(False)"
   ]
  },
  {
   "cell_type": "code",
   "execution_count": 132,
   "id": "dbdbd7a1",
   "metadata": {},
   "outputs": [
    {
     "data": {
      "text/plain": [
       "5"
      ]
     },
     "execution_count": 132,
     "metadata": {},
     "output_type": "execute_result"
    }
   ],
   "source": [
    "#Built-In Functions\n",
    "#https://docs.python.org/3.6/library/functions.html\n",
    "int(5.3)"
   ]
  },
  {
   "cell_type": "code",
   "execution_count": 133,
   "id": "9c925d98",
   "metadata": {},
   "outputs": [
    {
     "data": {
      "text/plain": [
       "False"
      ]
     },
     "execution_count": 133,
     "metadata": {},
     "output_type": "execute_result"
    }
   ],
   "source": [
    "bool(0)"
   ]
  },
  {
   "cell_type": "code",
   "execution_count": 134,
   "id": "0abe0088",
   "metadata": {},
   "outputs": [
    {
     "data": {
      "text/plain": [
       "3.56"
      ]
     },
     "execution_count": 134,
     "metadata": {},
     "output_type": "execute_result"
    }
   ],
   "source": [
    "round(3.555,2)"
   ]
  },
  {
   "cell_type": "code",
   "execution_count": 135,
   "id": "fad9452b",
   "metadata": {},
   "outputs": [
    {
     "data": {
      "text/plain": [
       "654"
      ]
     },
     "execution_count": 135,
     "metadata": {},
     "output_type": "execute_result"
    }
   ],
   "source": [
    "abs(-654)"
   ]
  },
  {
   "cell_type": "code",
   "execution_count": 136,
   "id": "9e77394c",
   "metadata": {},
   "outputs": [
    {
     "data": {
      "text/plain": [
       "100000"
      ]
     },
     "execution_count": 136,
     "metadata": {},
     "output_type": "execute_result"
    }
   ],
   "source": [
    "pow(10,5)"
   ]
  },
  {
   "cell_type": "markdown",
   "id": "288f0287",
   "metadata": {},
   "source": [
    "# Variable\n",
    "<b>Variable Assignment</b>: variable as a name attached to a particular object\n",
    "\n",
    "1. A variable name must start with a letter or the underscore character\n",
    "2. A variable name cannot start with a number\n",
    "3. A variable name can only contain alpha-numeric characters and underscores (A-z, 0-9, and _ )\n",
    "4. Variable names are case-sensitive (age, Age and AGE are three different variables)\n",
    "\n",
    "important: * Python is case sensetive\n"
   ]
  },
  {
   "cell_type": "code",
   "execution_count": 5,
   "id": "4352c712",
   "metadata": {},
   "outputs": [
    {
     "name": "stdout",
     "output_type": "stream",
     "text": [
      "100\n"
     ]
    }
   ],
   "source": [
    "num = 100\n",
    "print(num)"
   ]
  },
  {
   "cell_type": "code",
   "execution_count": 138,
   "id": "06d0751c",
   "metadata": {},
   "outputs": [
    {
     "name": "stdout",
     "output_type": "stream",
     "text": [
      "python\n"
     ]
    }
   ],
   "source": [
    "MyNewStr = 'python'\n",
    "print(MyNewStr)"
   ]
  },
  {
   "cell_type": "code",
   "execution_count": 139,
   "id": "bfb43039",
   "metadata": {},
   "outputs": [
    {
     "name": "stdout",
     "output_type": "stream",
     "text": [
      "300 300 300\n"
     ]
    }
   ],
   "source": [
    "a = b = c = 300\n",
    "print(a,b,c)"
   ]
  },
  {
   "cell_type": "code",
   "execution_count": 140,
   "id": "9cc05d4d",
   "metadata": {},
   "outputs": [
    {
     "data": {
      "text/plain": [
       "str"
      ]
     },
     "execution_count": 140,
     "metadata": {},
     "output_type": "execute_result"
    }
   ],
   "source": [
    "NewNum = '555'\n",
    "type(NewNum)"
   ]
  },
  {
   "cell_type": "code",
   "execution_count": 141,
   "id": "9a8653c1",
   "metadata": {},
   "outputs": [
    {
     "name": "stdout",
     "output_type": "stream",
     "text": [
      "6\n"
     ]
    }
   ],
   "source": [
    "a = 5\n",
    "a = 6\n",
    "print(a)"
   ]
  },
  {
   "cell_type": "code",
   "execution_count": 142,
   "id": "92d08ff3",
   "metadata": {},
   "outputs": [
    {
     "name": "stdout",
     "output_type": "stream",
     "text": [
      "4\n"
     ]
    }
   ],
   "source": [
    "#case sensetive\n",
    "var = 9\n",
    "Var = 4\n",
    "print(Var)"
   ]
  },
  {
   "cell_type": "code",
   "execution_count": 143,
   "id": "eee5b8f1",
   "metadata": {},
   "outputs": [
    {
     "name": "stdout",
     "output_type": "stream",
     "text": [
      "\n",
      "Here is a list of the Python keywords.  Enter any keyword to get more help.\n",
      "\n",
      "False               class               from                or\n",
      "None                continue            global              pass\n",
      "True                def                 if                  raise\n",
      "and                 del                 import              return\n",
      "as                  elif                in                  try\n",
      "assert              else                is                  while\n",
      "async               except              lambda              with\n",
      "await               finally             nonlocal            yield\n",
      "break               for                 not                 \n",
      "\n"
     ]
    }
   ],
   "source": [
    "#Reserved Words (Keywords)\n",
    "help('keywords')"
   ]
  },
  {
   "cell_type": "markdown",
   "id": "58617952",
   "metadata": {},
   "source": [
    "Naming style for diffrent types of object in python\n",
    "https://peps.python.org/pep-0008/#descriptive-naming-styles"
   ]
  },
  {
   "cell_type": "markdown",
   "id": "86e1df71",
   "metadata": {},
   "source": [
    "# Operators and Expressions\n",
    "1. Arithmetic Operators\n",
    "2. Comparison Operators\n",
    "3. Logical Operators\n",
    "4. Bitwise Operators\n",
    "5. Identity Operators\n",
    "6. Augmented Assignment Operators"
   ]
  },
  {
   "cell_type": "markdown",
   "id": "07ebcc85",
   "metadata": {},
   "source": [
    "# Arithmetic Operators"
   ]
  },
  {
   "cell_type": "markdown",
   "id": "89dba723",
   "metadata": {},
   "source": [
    "1. Addition Operator"
   ]
  },
  {
   "cell_type": "code",
   "execution_count": 2,
   "id": "53a67941",
   "metadata": {},
   "outputs": [
    {
     "name": "stdout",
     "output_type": "stream",
     "text": [
      "stff\n"
     ]
    }
   ],
   "source": [
    "val1 = 'st'\n",
    "val2 = 'ff'\n",
    "\n",
    "# using the addition operator\n",
    "res = val1 + val2\n",
    "print(res)"
   ]
  },
  {
   "cell_type": "markdown",
   "id": "c351022e",
   "metadata": {},
   "source": [
    "2. Subtraction Operator"
   ]
  },
  {
   "cell_type": "code",
   "execution_count": 3,
   "id": "fcb9ae1f",
   "metadata": {},
   "outputs": [
    {
     "ename": "TypeError",
     "evalue": "unsupported operand type(s) for -: 'str' and 'str'",
     "output_type": "error",
     "traceback": [
      "\u001b[0;31m---------------------------------------------------------------------------\u001b[0m",
      "\u001b[0;31mTypeError\u001b[0m                                 Traceback (most recent call last)",
      "Input \u001b[0;32mIn [3]\u001b[0m, in \u001b[0;36m<cell line: 5>\u001b[0;34m()\u001b[0m\n\u001b[1;32m      2\u001b[0m val2 \u001b[38;5;241m=\u001b[39m \u001b[38;5;124m'\u001b[39m\u001b[38;5;124mgg\u001b[39m\u001b[38;5;124m'\u001b[39m\n\u001b[1;32m      4\u001b[0m \u001b[38;5;66;03m# using the subtraction operator\u001b[39;00m\n\u001b[0;32m----> 5\u001b[0m res \u001b[38;5;241m=\u001b[39m \u001b[43mval1\u001b[49m\u001b[43m \u001b[49m\u001b[38;5;241;43m-\u001b[39;49m\u001b[43m \u001b[49m\u001b[43mval2\u001b[49m\n\u001b[1;32m      6\u001b[0m \u001b[38;5;28mprint\u001b[39m(res)\n",
      "\u001b[0;31mTypeError\u001b[0m: unsupported operand type(s) for -: 'str' and 'str'"
     ]
    }
   ],
   "source": [
    "val1 = 'f'\n",
    "val2 = 'gg'\n",
    "\n",
    "# using the subtraction operator\n",
    "res = val1 - val2\n",
    "print(res)"
   ]
  },
  {
   "cell_type": "markdown",
   "id": "57491b44",
   "metadata": {},
   "source": [
    "3. Multiplication Operator"
   ]
  },
  {
   "cell_type": "code",
   "execution_count": 146,
   "id": "6ffbdf3f",
   "metadata": {},
   "outputs": [
    {
     "name": "stdout",
     "output_type": "stream",
     "text": [
      "6\n"
     ]
    }
   ],
   "source": [
    "val1 = 2\n",
    "val2 = 3\n",
    "\n",
    "# using the multiplication operator\n",
    "res = val1 * val2\n",
    "print(res)"
   ]
  },
  {
   "cell_type": "markdown",
   "id": "94ae700c",
   "metadata": {},
   "source": [
    "4. Division Operator"
   ]
  },
  {
   "cell_type": "code",
   "execution_count": 7,
   "id": "275c4988",
   "metadata": {},
   "outputs": [
    {
     "name": "stdout",
     "output_type": "stream",
     "text": [
      "1\n"
     ]
    }
   ],
   "source": [
    "val1 = 3\n",
    "val2 = 2\n",
    "\n",
    "# using the division operator\n",
    "res = val1 // val2\n",
    "res2 = val1 / val2 \n",
    "print(res)"
   ]
  },
  {
   "cell_type": "markdown",
   "id": "ea6fa84a",
   "metadata": {},
   "source": [
    "5. Modulus Operator"
   ]
  },
  {
   "cell_type": "code",
   "execution_count": 11,
   "id": "7912f819",
   "metadata": {},
   "outputs": [
    {
     "name": "stdout",
     "output_type": "stream",
     "text": [
      "1\n"
     ]
    }
   ],
   "source": [
    "val1 = 1\n",
    "val2 = 2\n",
    "\n",
    "# using the modulus operator\n",
    "res = val1 % val2\n",
    "print(res)"
   ]
  },
  {
   "cell_type": "markdown",
   "id": "89c7d0a5",
   "metadata": {},
   "source": [
    "6. Exponentiation Operator"
   ]
  },
  {
   "cell_type": "code",
   "execution_count": 12,
   "id": "701c9403",
   "metadata": {},
   "outputs": [
    {
     "name": "stdout",
     "output_type": "stream",
     "text": [
      "40\n"
     ]
    }
   ],
   "source": [
    "val1 = 2\n",
    "val2 = 3\n",
    "val3 = 5\n",
    "\n",
    "# using the exponentiation operator\n",
    "res = val3 * (val1 ** val2)\n",
    "print(res)"
   ]
  },
  {
   "cell_type": "markdown",
   "id": "4dfda867",
   "metadata": {},
   "source": [
    "7. Floor division"
   ]
  },
  {
   "cell_type": "code",
   "execution_count": 150,
   "id": "622ae4bb",
   "metadata": {},
   "outputs": [
    {
     "name": "stdout",
     "output_type": "stream",
     "text": [
      "1\n"
     ]
    }
   ],
   "source": [
    "val1 = 3\n",
    "val2 = 2\n",
    "\n",
    "# using the floor division\n",
    "res = val1 // val2\n",
    "print(res)"
   ]
  },
  {
   "cell_type": "code",
   "execution_count": 14,
   "id": "f37ede6d",
   "metadata": {},
   "outputs": [
    {
     "data": {
      "text/plain": [
       "-172"
      ]
     },
     "execution_count": 14,
     "metadata": {},
     "output_type": "execute_result"
    }
   ],
   "source": [
    "3 - (5**2) * (7)"
   ]
  },
  {
   "cell_type": "code",
   "execution_count": 151,
   "id": "dd535bb2",
   "metadata": {},
   "outputs": [
    {
     "data": {
      "text/plain": [
       "9"
      ]
     },
     "execution_count": 151,
     "metadata": {},
     "output_type": "execute_result"
    }
   ],
   "source": [
    "#expression\n",
    "a = 8\n",
    "3 + 5 - 7 + a"
   ]
  },
  {
   "attachments": {
    "Screenshot%202022-10-18%20233741.png": {
     "image/png": "[encoded data removed]"
    }
   },
   "cell_type": "markdown",
   "id": "73e94314",
   "metadata": {},
   "source": [
    "![Screenshot%202022-10-18%20233741.png](attachment:Screenshot%202022-10-18%20233741.png)"
   ]
  },
  {
   "cell_type": "markdown",
   "id": "20a1560e",
   "metadata": {},
   "source": [
    "# Comparison Operators"
   ]
  },
  {
   "attachments": {
    "Screenshot%202022-10-18%20234845.png": {
     "image/png": "[encoded data removed]"
    }
   },
   "cell_type": "markdown",
   "id": "cc51e26e",
   "metadata": {},
   "source": [
    "![Screenshot%202022-10-18%20234845.png](attachment:Screenshot%202022-10-18%20234845.png)"
   ]
  },
  {
   "cell_type": "code",
   "execution_count": 152,
   "id": "01558009",
   "metadata": {},
   "outputs": [
    {
     "name": "stdout",
     "output_type": "stream",
     "text": [
      "True\n"
     ]
    }
   ],
   "source": [
    "#Greater than\n",
    "a = 9\n",
    "b = 5\n",
    "\n",
    "# Output\n",
    "print(a > b)\n"
   ]
  },
  {
   "cell_type": "code",
   "execution_count": 153,
   "id": "a0f79587",
   "metadata": {},
   "outputs": [
    {
     "name": "stdout",
     "output_type": "stream",
     "text": [
      "False\n"
     ]
    }
   ],
   "source": [
    "# Less than\n",
    "a = 9\n",
    "b = 5\n",
    "\n",
    "# Output\n",
    "print(a < b)\n"
   ]
  },
  {
   "cell_type": "code",
   "execution_count": 15,
   "id": "5440191d",
   "metadata": {},
   "outputs": [
    {
     "name": "stdout",
     "output_type": "stream",
     "text": [
      "False\n"
     ]
    }
   ],
   "source": [
    "# = and == are not equal\n",
    "a = '5'\n",
    "b = 5\n",
    "\n",
    "# Output\n",
    "print(a == b)\n"
   ]
  },
  {
   "cell_type": "code",
   "execution_count": 17,
   "id": "1527abad",
   "metadata": {},
   "outputs": [
    {
     "name": "stdout",
     "output_type": "stream",
     "text": [
      "True\n"
     ]
    }
   ],
   "source": [
    "#not equal\n",
    "a = 9\n",
    "b = 5\n",
    "\n",
    "# Output\n",
    "print(a != b)"
   ]
  },
  {
   "cell_type": "code",
   "execution_count": 156,
   "id": "c22af355",
   "metadata": {},
   "outputs": [
    {
     "name": "stdout",
     "output_type": "stream",
     "text": [
      "True\n"
     ]
    }
   ],
   "source": [
    "#Greater than or equal to\n",
    "a = 9\n",
    "b = 5\n",
    "\n",
    "# Output\n",
    "print(a >= b)\n"
   ]
  },
  {
   "cell_type": "code",
   "execution_count": 157,
   "id": "0df4846d",
   "metadata": {},
   "outputs": [
    {
     "name": "stdout",
     "output_type": "stream",
     "text": [
      "False\n"
     ]
    }
   ],
   "source": [
    "# Less than or equal\n",
    "a = 9\n",
    "b = 5\n",
    "\n",
    "# Output\n",
    "print(a <= b)\n"
   ]
  },
  {
   "cell_type": "markdown",
   "id": "d9e69143",
   "metadata": {},
   "source": [
    "# Logical Operators"
   ]
  },
  {
   "cell_type": "code",
   "execution_count": 158,
   "id": "8e029d48",
   "metadata": {},
   "outputs": [],
   "source": [
    "# and - or - not\n",
    "#We will discuss about logical operator later"
   ]
  },
  {
   "cell_type": "markdown",
   "id": "809abae6",
   "metadata": {},
   "source": [
    "# Sequences in Python"
   ]
  },
  {
   "cell_type": "markdown",
   "id": "055f21ab",
   "metadata": {},
   "source": [
    "In Python programming, sequences are a generic term for an ordered set which means that the order in which we input the items will be the same when we access them. Python supports six different types of sequences. These are strings, lists, tuples, byte sequences, byte arrays, and range objects."
   ]
  },
  {
   "cell_type": "markdown",
   "id": "9d5d01fb",
   "metadata": {},
   "source": [
    "## STRING\n",
    "Index <br>\n",
    "Slicing <br>\n",
    "Stride <br>\n",
    "fstring in py <br>\n",
    "String Operators <br>\n",
    "len <br>"
   ]
  },
  {
   "cell_type": "markdown",
   "id": "bd601106",
   "metadata": {},
   "source": [
    "# String Operators"
   ]
  },
  {
   "cell_type": "code",
   "execution_count": 159,
   "id": "b17a02d3",
   "metadata": {},
   "outputs": [
    {
     "data": {
      "text/plain": [
       "'foobarbaz'"
      ]
     },
     "execution_count": 159,
     "metadata": {},
     "output_type": "execute_result"
    }
   ],
   "source": [
    "\n",
    "s = 'foo'\n",
    "t = 'bar'\n",
    "u = 'baz'\n",
    "s+t+u"
   ]
  },
  {
   "cell_type": "code",
   "execution_count": 160,
   "id": "6745ee46",
   "metadata": {},
   "outputs": [
    {
     "name": "stdout",
     "output_type": "stream",
     "text": [
      "Go team!!!\n"
     ]
    }
   ],
   "source": [
    "print('Go team' + '!!!')"
   ]
  },
  {
   "cell_type": "code",
   "execution_count": 161,
   "id": "2d62aad7",
   "metadata": {},
   "outputs": [
    {
     "data": {
      "text/plain": [
       "'foofoofoofoo'"
      ]
     },
     "execution_count": 161,
     "metadata": {},
     "output_type": "execute_result"
    }
   ],
   "source": [
    "s * 4"
   ]
  },
  {
   "cell_type": "code",
   "execution_count": 162,
   "id": "a80850ae",
   "metadata": {},
   "outputs": [
    {
     "data": {
      "text/plain": [
       "'foofoofoofoo'"
      ]
     },
     "execution_count": 162,
     "metadata": {},
     "output_type": "execute_result"
    }
   ],
   "source": [
    "4 * s"
   ]
  },
  {
   "cell_type": "code",
   "execution_count": 163,
   "id": "b8cd41ab",
   "metadata": {},
   "outputs": [
    {
     "data": {
      "text/plain": [
       "''"
      ]
     },
     "execution_count": 163,
     "metadata": {},
     "output_type": "execute_result"
    }
   ],
   "source": [
    "s * -1"
   ]
  },
  {
   "cell_type": "markdown",
   "id": "7eb2c952",
   "metadata": {},
   "source": [
    "# String Indexing\n",
    "Often in programming languages, individual items in an ordered set of data can be accessed directly using a numeric index or key value. This process is referred to as indexing."
   ]
  },
  {
   "cell_type": "code",
   "execution_count": 164,
   "id": "93a497f4",
   "metadata": {},
   "outputs": [
    {
     "data": {
      "text/plain": [
       "'f'"
      ]
     },
     "execution_count": 164,
     "metadata": {},
     "output_type": "execute_result"
    }
   ],
   "source": [
    "s = 'foobar'\n",
    "s[0]"
   ]
  },
  {
   "cell_type": "code",
   "execution_count": 165,
   "id": "b88ca3d0",
   "metadata": {},
   "outputs": [
    {
     "data": {
      "text/plain": [
       "'o'"
      ]
     },
     "execution_count": 165,
     "metadata": {},
     "output_type": "execute_result"
    }
   ],
   "source": [
    "s[1]"
   ]
  },
  {
   "cell_type": "code",
   "execution_count": 166,
   "id": "0aec455b",
   "metadata": {},
   "outputs": [
    {
     "data": {
      "text/plain": [
       "'r'"
      ]
     },
     "execution_count": 166,
     "metadata": {},
     "output_type": "execute_result"
    }
   ],
   "source": [
    "s[5]"
   ]
  },
  {
   "cell_type": "code",
   "execution_count": 167,
   "id": "fe6c0e53",
   "metadata": {},
   "outputs": [
    {
     "data": {
      "text/plain": [
       "6"
      ]
     },
     "execution_count": 167,
     "metadata": {},
     "output_type": "execute_result"
    }
   ],
   "source": [
    "len(s)"
   ]
  },
  {
   "cell_type": "code",
   "execution_count": 168,
   "id": "e0440512",
   "metadata": {},
   "outputs": [
    {
     "data": {
      "text/plain": [
       "'r'"
      ]
     },
     "execution_count": 168,
     "metadata": {},
     "output_type": "execute_result"
    }
   ],
   "source": [
    "s[len(s)-1]"
   ]
  },
  {
   "cell_type": "code",
   "execution_count": 169,
   "id": "e19ab1d2",
   "metadata": {},
   "outputs": [
    {
     "data": {
      "text/plain": [
       "'r'"
      ]
     },
     "execution_count": 169,
     "metadata": {},
     "output_type": "execute_result"
    }
   ],
   "source": [
    "s[-1]"
   ]
  },
  {
   "cell_type": "code",
   "execution_count": 170,
   "id": "67ae1f93",
   "metadata": {},
   "outputs": [
    {
     "data": {
      "text/plain": [
       "'f'"
      ]
     },
     "execution_count": 170,
     "metadata": {},
     "output_type": "execute_result"
    }
   ],
   "source": [
    "s[-6]"
   ]
  },
  {
   "cell_type": "markdown",
   "id": "3254477a",
   "metadata": {},
   "source": [
    "# String slicing"
   ]
  },
  {
   "cell_type": "code",
   "execution_count": 171,
   "id": "7e507dc7",
   "metadata": {},
   "outputs": [
    {
     "data": {
      "text/plain": [
       "'foo'"
      ]
     },
     "execution_count": 171,
     "metadata": {},
     "output_type": "execute_result"
    }
   ],
   "source": [
    "s[0:3]\n",
    "#0,1,2"
   ]
  },
  {
   "cell_type": "code",
   "execution_count": 172,
   "id": "63d842ab",
   "metadata": {},
   "outputs": [
    {
     "data": {
      "text/plain": [
       "'foobar'"
      ]
     },
     "execution_count": 172,
     "metadata": {},
     "output_type": "execute_result"
    }
   ],
   "source": [
    "s[:]"
   ]
  },
  {
   "cell_type": "code",
   "execution_count": 173,
   "id": "507ce243",
   "metadata": {},
   "outputs": [
    {
     "data": {
      "text/plain": [
       "'foo'"
      ]
     },
     "execution_count": 173,
     "metadata": {},
     "output_type": "execute_result"
    }
   ],
   "source": [
    "s[:3]"
   ]
  },
  {
   "cell_type": "code",
   "execution_count": 174,
   "id": "f4961897",
   "metadata": {},
   "outputs": [
    {
     "data": {
      "text/plain": [
       "'obar'"
      ]
     },
     "execution_count": 174,
     "metadata": {},
     "output_type": "execute_result"
    }
   ],
   "source": [
    "s[2:]"
   ]
  },
  {
   "cell_type": "code",
   "execution_count": 175,
   "id": "57946606",
   "metadata": {},
   "outputs": [
    {
     "data": {
      "text/plain": [
       "'fo'"
      ]
     },
     "execution_count": 175,
     "metadata": {},
     "output_type": "execute_result"
    }
   ],
   "source": [
    "#stride\n",
    "s[0:3:2]"
   ]
  },
  {
   "cell_type": "code",
   "execution_count": 176,
   "id": "e9b65f55",
   "metadata": {},
   "outputs": [
    {
     "data": {
      "text/plain": [
       "'raboof'"
      ]
     },
     "execution_count": 176,
     "metadata": {},
     "output_type": "execute_result"
    }
   ],
   "source": [
    "s[::-1]"
   ]
  },
  {
   "cell_type": "code",
   "execution_count": 177,
   "id": "edb38e59",
   "metadata": {},
   "outputs": [
    {
     "name": "stdout",
     "output_type": "stream",
     "text": [
      "my name is Farzane\n"
     ]
    }
   ],
   "source": [
    "name = 'Farzane'\n",
    "print(f'my name is {name}')"
   ]
  },
  {
   "cell_type": "markdown",
   "id": "6db209c0",
   "metadata": {},
   "source": [
    "# List"
   ]
  },
  {
   "cell_type": "markdown",
   "id": "ea798ef2",
   "metadata": {},
   "source": [
    "The important characteristics of Python lists are as follows:\n",
    "\n",
    "1. Lists are ordered.\n",
    "2. Lists can contain any arbitrary objects.\n",
    "3. List elements can be accessed by index.\n",
    "4. Lists can be nested to arbitrary depth.\n",
    "5. Lists are mutable.\n",
    "6. Lists are dynamic."
   ]
  },
  {
   "cell_type": "code",
   "execution_count": 178,
   "id": "3e48e497",
   "metadata": {},
   "outputs": [
    {
     "data": {
      "text/plain": [
       "False"
      ]
     },
     "execution_count": 178,
     "metadata": {},
     "output_type": "execute_result"
    }
   ],
   "source": [
    "#Lists are ordered\n",
    "#Lists that have the same elements in a different order are not the same:\n",
    "\n",
    "a = ['foo', 'bar', 'baz', 'qux']\n",
    "b = ['baz', 'qux', 'bar', 'foo']\n",
    "a == b"
   ]
  },
  {
   "cell_type": "code",
   "execution_count": 179,
   "id": "5b10f394",
   "metadata": {},
   "outputs": [],
   "source": [
    "#Lists can contain any arbitrary object\n",
    "#elements can be of varying types\n",
    "mylist = [21.42, 'foobar', 3, 4, 'bark', False, 3.14159]\n"
   ]
  },
  {
   "cell_type": "code",
   "execution_count": 180,
   "id": "13a81c5c",
   "metadata": {},
   "outputs": [
    {
     "data": {
      "text/plain": [
       "21.42"
      ]
     },
     "execution_count": 180,
     "metadata": {},
     "output_type": "execute_result"
    }
   ],
   "source": [
    "#List elements can be accessed by index\n",
    "mylist[0]"
   ]
  },
  {
   "cell_type": "code",
   "execution_count": 181,
   "id": "0c758fae",
   "metadata": {},
   "outputs": [],
   "source": [
    "#Lists can be nested to arbitrary depth\n",
    "x = ['a', ['bb', ['ccc', 'ddd'], 'ee', 'ff'], 'g', ['hh', 'ii'], 'j']"
   ]
  },
  {
   "cell_type": "code",
   "execution_count": 182,
   "id": "4f29d076",
   "metadata": {},
   "outputs": [
    {
     "data": {
      "text/plain": [
       "'ccc'"
      ]
     },
     "execution_count": 182,
     "metadata": {},
     "output_type": "execute_result"
    }
   ],
   "source": [
    "x[1][1][0]"
   ]
  },
  {
   "cell_type": "code",
   "execution_count": 183,
   "id": "89f6ca9d",
   "metadata": {},
   "outputs": [
    {
     "name": "stdout",
     "output_type": "stream",
     "text": [
      "[10, 'foobar', 3, 4, 'bark', False, 3.14159]\n"
     ]
    }
   ],
   "source": [
    "#Lists are mutable\n",
    "mylist = [21.42, 'foobar', 3, 4, 'bark', False, 3.14159]\n",
    "mylist[0] = 10\n",
    "print(mylist)"
   ]
  },
  {
   "cell_type": "code",
   "execution_count": 184,
   "id": "d6bf7eef",
   "metadata": {},
   "outputs": [
    {
     "data": {
      "text/plain": [
       "[10, 'foobar', 3, 4, 'bark', False, 3.14159, 'ggg', 'aaa']"
      ]
     },
     "execution_count": 184,
     "metadata": {},
     "output_type": "execute_result"
    }
   ],
   "source": [
    "mylist + ['ggg','aaa']"
   ]
  },
  {
   "cell_type": "code",
   "execution_count": 185,
   "id": "f0ad8d47",
   "metadata": {},
   "outputs": [
    {
     "ename": "TypeError",
     "evalue": "can only concatenate list (not \"int\") to list",
     "output_type": "error",
     "traceback": [
      "\u001b[0;31m---------------------------------------------------------------------------\u001b[0m",
      "\u001b[0;31mTypeError\u001b[0m                                 Traceback (most recent call last)",
      "Input \u001b[0;32mIn [185]\u001b[0m, in \u001b[0;36m<cell line: 2>\u001b[0;34m()\u001b[0m\n\u001b[1;32m      1\u001b[0m \u001b[38;5;66;03m#Its False\u001b[39;00m\n\u001b[0;32m----> 2\u001b[0m \u001b[43mmylist\u001b[49m\u001b[43m \u001b[49m\u001b[38;5;241;43m+\u001b[39;49m\u001b[43m \u001b[49m\u001b[38;5;241;43m20\u001b[39;49m\n",
      "\u001b[0;31mTypeError\u001b[0m: can only concatenate list (not \"int\") to list"
     ]
    }
   ],
   "source": [
    "#Its False\n",
    "mylist + 20"
   ]
  },
  {
   "cell_type": "code",
   "execution_count": 6,
   "id": "1e85b9ad",
   "metadata": {},
   "outputs": [
    {
     "name": "stdout",
     "output_type": "stream",
     "text": [
      "error: unknown switch `b'\r\n",
      "usage: git init [-q | --quiet] [--bare] [--template=<template-directory>] [--shared[=<permissions>]] [<directory>]\r\n",
      "\r\n",
      "    --template <template-directory>\r\n",
      "                          directory from which templates will be used\r\n",
      "    --bare                create a bare repository\r\n",
      "    --shared[=<permissions>]\r\n",
      "                          specify that the git repository is to be shared amongst several users\r\n",
      "    -q, --quiet           be quiet\r\n",
      "    --separate-git-dir <gitdir>\r\n",
      "                          separate git dir from working tree\r\n",
      "\r\n"
     ]
    }
   ],
   "source": [
    "!git init -b main\n"
   ]
  },
  {
   "cell_type": "code",
   "execution_count": 7,
   "id": "0fc3c10d",
   "metadata": {},
   "outputs": [
    {
     "name": "stdout",
     "output_type": "stream",
     "text": [
      "/home/farzane/FCP - TA Class\r\n"
     ]
    }
   ],
   "source": [
    "!pwd"
   ]
  },
  {
   "cell_type": "code",
   "execution_count": 8,
   "id": "e4e16463",
   "metadata": {},
   "outputs": [
    {
     "name": "stdout",
     "output_type": "stream",
     "text": [
      "Fundmental.ipynb\r\n"
     ]
    }
   ],
   "source": [
    "!ls"
   ]
  },
  {
   "cell_type": "code",
   "execution_count": 10,
   "id": "12712adf",
   "metadata": {},
   "outputs": [],
   "source": [
    "!git add ."
   ]
  },
  {
   "cell_type": "code",
   "execution_count": 11,
   "id": "bc80b47d",
   "metadata": {},
   "outputs": [
    {
     "name": "stdout",
     "output_type": "stream",
     "text": [
      "On branch master\r\n",
      "\r\n",
      "No commits yet\r\n",
      "\r\n",
      "Changes to be committed:\r\n",
      "  (use \"git rm --cached <file>...\" to unstage)\r\n",
      "\t\u001b[32mnew file:   .ipynb_checkpoints/Fundmental-checkpoint.ipynb\u001b[m\r\n",
      "\t\u001b[32mnew file:   Fundmental.ipynb\u001b[m\r\n",
      "\r\n"
     ]
    }
   ],
   "source": [
    "!git status"
   ]
  },
  {
   "cell_type": "code",
   "execution_count": 12,
   "id": "9bce2e4b",
   "metadata": {},
   "outputs": [
    {
     "name": "stdout",
     "output_type": "stream",
     "text": [
      "[master (root-commit) a3c1ad8] fff\n",
      " 2 files changed, 4033 insertions(+)\n",
      " create mode 100644 .ipynb_checkpoints/Fundmental-checkpoint.ipynb\n",
      " create mode 100644 Fundmental.ipynb\n"
     ]
    }
   ],
   "source": [
    "!git commit -m 'fff'"
   ]
  },
  {
   "cell_type": "code",
   "execution_count": 13,
   "id": "53073c15",
   "metadata": {},
   "outputs": [],
   "source": [
    "!git remote add origin git@github.com:FarzaneBa/programmingclass.git"
   ]
  },
  {
   "cell_type": "code",
   "execution_count": 14,
   "id": "3a6963e7",
   "metadata": {},
   "outputs": [
    {
     "name": "stdout",
     "output_type": "stream",
     "text": [
      "fatal: The current branch master has no upstream branch.\r\n",
      "To push the current branch and set the remote as upstream, use\r\n",
      "\r\n",
      "    git push --set-upstream origin master\r\n",
      "\r\n"
     ]
    }
   ],
   "source": [
    "!git push"
   ]
  },
  {
   "cell_type": "raw",
   "id": "d1731869",
   "metadata": {},
   "source": [
    "!git push --set-upstream origin master"
   ]
  },
  {
   "cell_type": "code",
   "execution_count": null,
   "id": "3e0c6e9a",
   "metadata": {},
   "outputs": [],
   "source": []
  },
  {
   "cell_type": "code",
   "execution_count": null,
   "id": "64ef37f3",
   "metadata": {},
   "outputs": [],
   "source": []
  }
 ],
 "metadata": {
  "kernelspec": {
   "display_name": "Python 3 (ipykernel)",
   "language": "python",
   "name": "python3"
  },
  "language_info": {
   "codemirror_mode": {
    "name": "ipython",
    "version": 3
   },
   "file_extension": ".py",
   "mimetype": "text/x-python",
   "name": "python",
   "nbconvert_exporter": "python",
   "pygments_lexer": "ipython3",
   "version": "3.10.4"
  }
 },
 "nbformat": 4,
 "nbformat_minor": 5
}
