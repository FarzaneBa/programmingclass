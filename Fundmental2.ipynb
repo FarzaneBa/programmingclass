{
 "cells": [
  {
   "cell_type": "markdown",
   "id": "04bc3263",
   "metadata": {},
   "source": [
    "# If... else statement"
   ]
  },
  {
   "cell_type": "markdown",
   "id": "f015fe87",
   "metadata": {},
   "source": [
    "Decision making is required when we want to execute a code only if a certain condition is satisfied.\n",
    "The if…elif…else statement is used in Python for decision making.\n",
    "\n",
    "the program evaluates the test expression and will execute statement(s) only if the test expression is True. If the test expression is False, the statement(s) is not executed."
   ]
  },
  {
   "cell_type": "markdown",
   "id": "5cce341c",
   "metadata": {},
   "source": [
    "# Syntax"
   ]
  },
  {
   "cell_type": "markdown",
   "id": "a7c0ef5a",
   "metadata": {},
   "source": [
    "if test expression:\n",
    "    Body of if\n",
    "elif test expression:\n",
    "    Body of elif\n",
    "else: \n",
    "    Body of else"
   ]
  },
  {
   "cell_type": "code",
   "execution_count": 3,
   "id": "aa543c02",
   "metadata": {},
   "outputs": [
    {
     "name": "stdout",
     "output_type": "stream",
     "text": [
      "Please enter an integer: 65\n",
      "It's positive\n"
     ]
    }
   ],
   "source": [
    "x = int(input(\"Please enter an integer: \"))\n",
    "\n",
    "if x < 5:\n",
    "    x = 0\n",
    "    print(\"It's less than 5\")\n",
    "elif x > 10:\n",
    "    print(\"It's more than 10\")\n",
    "elif x == 0:\n",
    "    print('Zero')\n",
    "elif x == 1:\n",
    "    print('Single')\n",
    "\n",
    "else:\n",
    "    print('More')"
   ]
  },
  {
   "cell_type": "code",
   "execution_count": null,
   "id": "6ffed277",
   "metadata": {},
   "outputs": [],
   "source": [
    "x = int(input(\"Please enter an integer: \"))\n",
    "\n",
    "if x>1 and x < 20:\n",
    "    print(\"x is between 1 and 20\")\n",
    "elif x>20 and x < 30:\n",
    "    print(\"x is between 20 and 30\")\n",
    "else:\n",
    "    print(\"It's more than 30\")"
   ]
  },
  {
   "cell_type": "markdown",
   "id": "e75c7a92",
   "metadata": {},
   "source": [
    "# ABSTRACTION IDEA"
   ]
  },
  {
   "cell_type": "markdown",
   "id": "9655e02d",
   "metadata": {},
   "source": [
    "a projector is a black box\n",
    "<br>\n",
    "1.don’t know how it works\n",
    "<br>\n",
    "2.know the interface: input/output\n",
    "<br>\n",
    "3.connect any electronic to it that can communicate with that input\n",
    "<br>\n",
    "4.black box somehow converts image from input source to a wall, magnifying it\n",
    "<br>\n",
    "<b>ABSTRACTION IDEA<b>: do not need to know how projector works to use it"
   ]
  },
  {
   "cell_type": "markdown",
   "id": "323932a4",
   "metadata": {},
   "source": [
    "# DECOMPOSITION IDEA"
   ]
  },
  {
   "cell_type": "markdown",
   "id": "020b4139",
   "metadata": {},
   "source": [
    "projecting large image for Olympics decomposed into separate tasks for separate projectors\n",
    "<br>\n",
    "1.each projector takes input and produces separate output\n",
    "<br>\n",
    "2.all projectors work together to produce larger image\n",
    "<br>\n",
    "<b>DECOMPOSITION IDEA<b>: different devices work together to achieve an end goal"
   ]
  },
  {
   "cell_type": "markdown",
   "id": "48bb6d5d",
   "metadata": {},
   "source": [
    "### CREATE STRUCTURE with DECOMPOSITION\n",
    "<br>\n",
    "in projector example, separate devices\n",
    "<br>\n",
    "in programming, divide code into modules\n",
    "<br>\n",
    "•are self-contained\n",
    "<br>\n",
    "•used to break upcode\n",
    "<br>\n",
    "•intended to be reusable\n",
    "<br>\n",
    "•keep code organized\n",
    "<br>\n",
    "•keep code coherent\n",
    "<br>\n",
    "this lecture, achieve decomposition with functions"
   ]
  },
  {
   "cell_type": "markdown",
   "id": "6fe08528",
   "metadata": {},
   "source": [
    "### SUPRESS DETAILS with ABSTRACTION\n",
    "<br>\n",
    "in projector example, instructions for how to use it are sufficient, no need to know how to build one\n",
    "<br>\n",
    "in programming, think of a piece of code as a black box\n",
    "<br>\n",
    "•cannot see details\n",
    "<br>\n",
    "•do not need to see details\n",
    "<br>\n",
    "•do not want to see details\n",
    "<br>\n",
    "•hide tedious coding details\n",
    "<br>\n",
    "achieve abstraction with function specificationsor docstrings"
   ]
  },
  {
   "cell_type": "markdown",
   "id": "59ada717",
   "metadata": {},
   "source": [
    "### FUNCTIONS\n",
    "write reusable pieces/chunks of code, called functions\n",
    "<br>\n",
    "functions are not run in a program until they are “called” or “invoked” in a program\n",
    "<br>\n",
    "function characteristics:\n",
    "<br>\n",
    "•has a name\n",
    "<br>\n",
    "•has parameters(0 or more)\n",
    "<br>\n",
    "•has a docstring(optional but recommended)\n",
    "<br>\n",
    "•has a body\n",
    "<br>\n",
    "•returns something\n",
    "\n",
    "<br>\n",
    "Basically, we can divide functions into the following two types:\n",
    "<br>\n",
    "1.Built-in functions - Functions that are built into Python.\n",
    "<br>\n",
    "2.User-defined functions - Functions defined by the users themselves."
   ]
  },
  {
   "cell_type": "code",
   "execution_count": null,
   "id": "539e4fc1",
   "metadata": {},
   "outputs": [],
   "source": [
    "def is_even( i):\n",
    "    \"\"\"\n",
    "    Input: i, a positive int\n",
    "    Returns True if iis even, otherwise False\n",
    "    \"\"\"\n",
    "    print(\"inside is_even\")\n",
    "    return i%2 == 0\n",
    "\n",
    "is_even(5)"
   ]
  },
  {
   "cell_type": "code",
   "execution_count": 8,
   "id": "2483694c",
   "metadata": {},
   "outputs": [],
   "source": [
    "def greet(name):\n",
    "    \"\"\"\n",
    "    This function greets to\n",
    "    the person passed in as\n",
    "    a parameter\n",
    "    \"\"\"\n",
    "    return \"Hello, \" + name + \". Good morning!\""
   ]
  },
  {
   "cell_type": "code",
   "execution_count": 9,
   "id": "4924cc22",
   "metadata": {},
   "outputs": [
    {
     "data": {
      "text/plain": [
       "'Hello, farzane. Good morning!'"
      ]
     },
     "execution_count": 9,
     "metadata": {},
     "output_type": "execute_result"
    }
   ],
   "source": [
    "greet('ali')"
   ]
  },
  {
   "cell_type": "code",
   "execution_count": 10,
   "id": "8cc02c8f",
   "metadata": {},
   "outputs": [],
   "source": [
    "def absolute_value(num):\n",
    "    \"\"\"This function returns the absolute\n",
    "    value of the entered number\"\"\"\n",
    "\n",
    "    if num >= 0:\n",
    "        return num\n",
    "    else:\n",
    "        return -num"
   ]
  },
  {
   "cell_type": "code",
   "execution_count": 11,
   "id": "b133a0df",
   "metadata": {},
   "outputs": [
    {
     "data": {
      "text/plain": [
       "2"
      ]
     },
     "execution_count": 11,
     "metadata": {},
     "output_type": "execute_result"
    }
   ],
   "source": [
    "absolute_value(2)"
   ]
  },
  {
   "cell_type": "code",
   "execution_count": 12,
   "id": "0a3928a8",
   "metadata": {},
   "outputs": [
    {
     "data": {
      "text/plain": [
       "4"
      ]
     },
     "execution_count": 12,
     "metadata": {},
     "output_type": "execute_result"
    }
   ],
   "source": [
    "absolute_value(-4)"
   ]
  },
  {
   "cell_type": "code",
   "execution_count": 13,
   "id": "f05b430f",
   "metadata": {},
   "outputs": [],
   "source": [
    "def add_numbers(a, b):\n",
    "    sum = a + b\n",
    "    return sum\n"
   ]
  },
  {
   "cell_type": "code",
   "execution_count": 14,
   "id": "98f2f1df",
   "metadata": {},
   "outputs": [
    {
     "data": {
      "text/plain": [
       "5"
      ]
     },
     "execution_count": 14,
     "metadata": {},
     "output_type": "execute_result"
    }
   ],
   "source": [
    "add_numbers(2, 3)"
   ]
  },
  {
   "cell_type": "code",
   "execution_count": null,
   "id": "5535d1ad",
   "metadata": {},
   "outputs": [],
   "source": []
  },
  {
   "cell_type": "code",
   "execution_count": null,
   "id": "7c84af23",
   "metadata": {},
   "outputs": [],
   "source": []
  }
 ],
 "metadata": {
  "kernelspec": {
   "display_name": "Python 3 (ipykernel)",
   "language": "python",
   "name": "python3"
  },
  "language_info": {
   "codemirror_mode": {
    "name": "ipython",
    "version": 3
   },
   "file_extension": ".py",
   "mimetype": "text/x-python",
   "name": "python",
   "nbconvert_exporter": "python",
   "pygments_lexer": "ipython3",
   "version": "3.10.4"
  }
 },
 "nbformat": 4,
 "nbformat_minor": 5
}
