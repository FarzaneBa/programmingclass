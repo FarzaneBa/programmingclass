{
 "cells": [
  {
   "cell_type": "code",
   "execution_count": 9,
   "id": "a0b51990",
   "metadata": {},
   "outputs": [
    {
     "data": {
      "text/plain": [
       "[1, 2]"
      ]
     },
     "execution_count": 9,
     "metadata": {},
     "output_type": "execute_result"
    }
   ],
   "source": [
    "tmp = [1, 2]\n",
    "\n",
    "def find_midterm(sequence):\n",
    "    sequence_len = len(sequence)\n",
    "    if sequence_len % 2 == 0:\n",
    "        return [sequence[sequence_len // 2 - 1], sequence[sequence_len // 2]]\n",
    "    else:\n",
    "        return [sequence[sequence_len // 2]]\n",
    "    \n",
    "find_midterm(tmp)"
   ]
  },
  {
   "cell_type": "code",
   "execution_count": 13,
   "id": "e867198d",
   "metadata": {},
   "outputs": [
    {
     "name": "stdout",
     "output_type": "stream",
     "text": [
      "Hello world!\n"
     ]
    }
   ],
   "source": [
    "print(\"Hello \", end=\" \")\n",
    "print(\"world!\")"
   ]
  },
  {
   "cell_type": "code",
   "execution_count": 14,
   "id": "689b3734",
   "metadata": {},
   "outputs": [
    {
     "name": "stdout",
     "output_type": "stream",
     "text": [
      "1 2 3 4 5 6 7 8 9 10 \n",
      "2 4 6 8 10 12 14 16 18 20 \n",
      "3 6 9 12 15 18 21 24 27 30 \n",
      "4 8 12 16 20 24 28 32 36 40 \n",
      "5 10 15 20 25 30 35 40 45 50 \n",
      "6 12 18 24 30 36 42 48 54 60 \n",
      "7 14 21 28 35 42 49 56 63 70 \n",
      "8 16 24 32 40 48 56 64 72 80 \n",
      "9 18 27 36 45 54 63 72 81 90 \n",
      "10 20 30 40 50 60 70 80 90 100 \n"
     ]
    }
   ],
   "source": [
    "for i in range(1, 11):\n",
    "    for j in range(1, 11):\n",
    "        print(i * j, end=\" \")\n",
    "    print()"
   ]
  },
  {
   "cell_type": "code",
   "execution_count": 15,
   "id": "ad02aab2",
   "metadata": {},
   "outputs": [
    {
     "name": "stdout",
     "output_type": "stream",
     "text": [
      "numbers12345678910\n"
     ]
    }
   ],
   "source": [
    "# Slow version\n",
    "my_str = \"numbers\"\n",
    "for i in range(1, 11):\n",
    "    my_str += str(i)\n",
    "print(my_str)"
   ]
  },
  {
   "cell_type": "code",
   "execution_count": 23,
   "id": "26e5e4b4",
   "metadata": {},
   "outputs": [
    {
     "name": "stdout",
     "output_type": "stream",
     "text": [
      "numbers12345678910\n"
     ]
    }
   ],
   "source": [
    "# Fast version\n",
    "my_str = [\"numbers\"]\n",
    "for i in range(1, 11):\n",
    "    # my_str.append(str(i))\n",
    "    my_str += [str(i)]\n",
    "print(\"\".join(my_str))"
   ]
  },
  {
   "cell_type": "code",
   "execution_count": 26,
   "id": "8c6f615e",
   "metadata": {},
   "outputs": [
    {
     "data": {
      "text/plain": [
       "120"
      ]
     },
     "execution_count": 26,
     "metadata": {},
     "output_type": "execute_result"
    }
   ],
   "source": [
    "tmp = list(range(1, 6))\n",
    "\n",
    "def multiply_seq(seq):\n",
    "    if len(seq) == 1:\n",
    "        return seq[0]\n",
    "    \n",
    "    return multiply_seq(seq[:-1]) * seq[-1]\n",
    "\n",
    "multiply_seq(tmp)"
   ]
  },
  {
   "cell_type": "code",
   "execution_count": 27,
   "id": "5931b9fe",
   "metadata": {},
   "outputs": [
    {
     "name": "stdout",
     "output_type": "stream",
     "text": [
      "120\n"
     ]
    }
   ],
   "source": [
    "product = 1\n",
    "for i in tmp:\n",
    "    product *= i\n",
    "print(product)"
   ]
  },
  {
   "cell_type": "code",
   "execution_count": 31,
   "id": "3987915a",
   "metadata": {},
   "outputs": [
    {
     "data": {
      "text/plain": [
       "2"
      ]
     },
     "execution_count": 31,
     "metadata": {},
     "output_type": "execute_result"
    }
   ],
   "source": [
    "num = 100000000000000001\n",
    "def sum_digits(num):\n",
    "    if num // 10 == 0:\n",
    "        return num\n",
    "    \n",
    "    return sum_digits(num // 10) + (num % 10)\n",
    "\n",
    "sum_digits(num)"
   ]
  },
  {
   "cell_type": "code",
   "execution_count": 32,
   "id": "ce97639f",
   "metadata": {},
   "outputs": [
    {
     "name": "stdout",
     "output_type": "stream",
     "text": [
      "1\n",
      "1\n",
      "2\n",
      "3\n",
      "5\n",
      "8\n",
      "13\n",
      "21\n",
      "34\n",
      "55\n"
     ]
    }
   ],
   "source": [
    "def fib(n):\n",
    "    if n == 0 or n == 1:\n",
    "        return 1\n",
    "    \n",
    "    return fib(n - 1) + fib(n - 2)\n",
    "\n",
    "for i in range(10):\n",
    "    print(fib(i))"
   ]
  },
  {
   "cell_type": "code",
   "execution_count": 36,
   "id": "1958b2bd",
   "metadata": {},
   "outputs": [
    {
     "name": "stdout",
     "output_type": "stream",
     "text": [
      "55\n"
     ]
    }
   ],
   "source": [
    "n = 10000\n",
    "result = []\n",
    "for i in range(0, n):\n",
    "    if i == 0 or i == 1:\n",
    "        result.append(1)\n",
    "        continue\n",
    "    result.append(result[i - 1] + result[i - 2])\n",
    "    \n",
    "print(result[-1])"
   ]
  },
  {
   "cell_type": "code",
   "execution_count": 40,
   "id": "ad141698",
   "metadata": {},
   "outputs": [
    {
     "name": "stdout",
     "output_type": "stream",
     "text": [
      "Avesta\n",
      "My name is Avesta\n"
     ]
    }
   ],
   "source": [
    "name = input()\n",
    "print(f\"My name is {name}\")"
   ]
  },
  {
   "cell_type": "code",
   "execution_count": 45,
   "id": "67c9ba86",
   "metadata": {},
   "outputs": [
    {
     "name": "stdout",
     "output_type": "stream",
     "text": [
      "Move Small from A to B\n",
      "Move Medium from A to C\n",
      "Move Small from B to C\n",
      "Move Large from A to B\n",
      "Move Small from C to A\n",
      "Move Medium from C to B\n",
      "Move Small from A to B\n"
     ]
    }
   ],
   "source": [
    "disks = [\"Large\", \"Medium\", \"Small\"]\n",
    "\n",
    "def hanoi_towers(disks, from_, to, placeholder):\n",
    "    if len(disks) == 0:\n",
    "        return\n",
    "    if len(disks) == 1:\n",
    "        print(f\"Move {disks[0]} from {from_} to {to}\")\n",
    "        return\n",
    "    \n",
    "    hanoi_towers(disks[1:], from_, placeholder, to)\n",
    "    hanoi_towers([disks[0]], from_, to, placeholder)\n",
    "    hanoi_towers(disks[1:], placeholder, to, from_)\n",
    "    \n",
    "hanoi_towers(disks, \"A\", \"C\", \"B\")"
   ]
  },
  {
   "cell_type": "code",
   "execution_count": 50,
   "id": "e80f3d4c",
   "metadata": {},
   "outputs": [
    {
     "data": {
      "text/plain": [
       "3"
      ]
     },
     "execution_count": 50,
     "metadata": {},
     "output_type": "execute_result"
    }
   ],
   "source": [
    "def find_max(seq):\n",
    "    if len(seq) == 1:\n",
    "        return seq[0]\n",
    "    \n",
    "    if find_max(seq[1:]) > seq[0]:\n",
    "        del seq[0]\n",
    "        return find_max(seq)\n",
    "    return seq[0]\n",
    "tmp = [1, 2, 3]\n",
    "find_max(tmp)"
   ]
  },
  {
   "cell_type": "code",
   "execution_count": 51,
   "id": "6c47cc25",
   "metadata": {},
   "outputs": [
    {
     "data": {
      "text/plain": [
       "[3]"
      ]
     },
     "execution_count": 51,
     "metadata": {},
     "output_type": "execute_result"
    }
   ],
   "source": [
    "tmp"
   ]
  },
  {
   "cell_type": "code",
   "execution_count": null,
   "id": "ada75099",
   "metadata": {},
   "outputs": [],
   "source": []
  }
 ],
 "metadata": {
  "kernelspec": {
   "display_name": "Python 3 (ipykernel)",
   "language": "python",
   "name": "python3"
  },
  "language_info": {
   "codemirror_mode": {
    "name": "ipython",
    "version": 3
   },
   "file_extension": ".py",
   "mimetype": "text/x-python",
   "name": "python",
   "nbconvert_exporter": "python",
   "pygments_lexer": "ipython3",
   "version": "3.10.4"
  }
 },
 "nbformat": 4,
 "nbformat_minor": 5
}
